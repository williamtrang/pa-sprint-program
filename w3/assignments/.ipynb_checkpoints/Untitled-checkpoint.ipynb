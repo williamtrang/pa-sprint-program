{
 "cells": [
  {
   "cell_type": "markdown",
   "id": "244f0612",
   "metadata": {},
   "source": [
    "# Python Sprint\n",
    "\n",
    "In this workbook, you'll get practice with the following:\n",
    "- working in a Jupyter Notebook\n",
    "- math vs. programing variables\n",
    "- dictionaries\n",
    "- indexing\n",
    "- functions"
   ]
  },
  {
   "cell_type": "markdown",
   "id": "72b0a581",
   "metadata": {},
   "source": [
    "## General Instructions:\n",
    "\n",
    "Whenever you see:\n",
    "\n",
    "```python\n",
    "# YOUR CODE HERE\n",
    "raise NotImplementedError()\n",
    "```\n",
    "\n",
    "You need to **replace (meaning: delete) these lines of code with some code that answers the question**. Make sure you remove the 'raise' line when you do this (or your notebook will raise an error, regardless of any other code.\n",
    "\n",
    "You should write the answer to the questions in those cells (the ones with `# YOUR CODE HERE`), but you can also add extra cells to explore / investigate things if you need / want to. \n",
    "\n",
    "Any cell with `assert` statements in it is a test cell. You should not try to change or delete these cells. Note that there might be more than one assert that tests a particular question. \n",
    "\n",
    "If a test does fail, reading the error that is printed out should let you know which test failed, which may be useful for fixing it.\n",
    "\n",
    "Note that some cells, including the test cells, may be read only, which means they won't let you edit them. If you cannot edit a cell - that is normal, and you shouldn't need to edit that cell."
   ]
  },
  {
   "cell_type": "markdown",
   "id": "b857cadb",
   "metadata": {},
   "source": [
    "## Part I: Variables\n",
    "\n",
    "Throughout these workbooks, there will be instructions for you to follow. Be sure that you get practice following the directions as specified. While these will not be autograded, it's good to get practice now so that you don't lose unecessary points due to lack of attention to detail in your assignments later.\n",
    "\n",
    "There will be assert cells throughout. If you successfully accommplish the stated programming task and run the cell, the assert cell should run without a problem. However, if you make an error in your code, the assert cell may error."
   ]
  },
  {
   "cell_type": "markdown",
   "id": "54202316",
   "metadata": {},
   "source": [
    "**Q1. Define a list called `numbers` including the values 1-5 (inclusively)**"
   ]
  },
  {
   "cell_type": "code",
   "execution_count": null,
   "id": "ef1192cf",
   "metadata": {},
   "outputs": [],
   "source": [
    "# YOUR CODE HERE\n",
    "raise NotImplementedError()"
   ]
  },
  {
   "cell_type": "code",
   "execution_count": null,
   "id": "5bf26631",
   "metadata": {},
   "outputs": [],
   "source": [
    "assert isinstance(numbers, list)\n",
    "assert len(numbers) == 5"
   ]
  },
  {
   "cell_type": "markdown",
   "id": "c21e4c22",
   "metadata": {},
   "source": [
    "**Q2. Define a tuple called `letters` that contains the individual letters a-e (inclusively)**"
   ]
  },
  {
   "cell_type": "code",
   "execution_count": null,
   "id": "9ffe3183",
   "metadata": {},
   "outputs": [],
   "source": [
    "# YOUR CODE HERE\n",
    "raise NotImplementedError()"
   ]
  },
  {
   "cell_type": "code",
   "execution_count": null,
   "id": "b5e976f5",
   "metadata": {},
   "outputs": [],
   "source": [
    "assert isinstance(letters, tuple)\n",
    "assert len(letters) == 5"
   ]
  },
  {
   "cell_type": "markdown",
   "id": "9ddbf761",
   "metadata": {},
   "source": [
    "Now that you've defined a few variables, let's start working with a few variables to remind ourselves of the difference between programming variables and math variables."
   ]
  },
  {
   "cell_type": "markdown",
   "id": "aa154cb0",
   "metadata": {},
   "source": [
    "**Q3a. Define a variable x to have the value 10**"
   ]
  },
  {
   "cell_type": "code",
   "execution_count": null,
   "id": "b3edf9c3",
   "metadata": {},
   "outputs": [],
   "source": [
    "# YOUR CODE HERE\n",
    "raise NotImplementedError()"
   ]
  },
  {
   "cell_type": "code",
   "execution_count": null,
   "id": "ae7ad997",
   "metadata": {},
   "outputs": [],
   "source": [
    "assert x==10"
   ]
  },
  {
   "cell_type": "markdown",
   "id": "da90816b",
   "metadata": {},
   "source": [
    "**Now that you've done that, run the following cell.**"
   ]
  },
  {
   "cell_type": "code",
   "execution_count": null,
   "id": "ee673111",
   "metadata": {},
   "outputs": [],
   "source": [
    "x = x + 1"
   ]
  },
  {
   "cell_type": "markdown",
   "id": "de6a381e",
   "metadata": {},
   "source": [
    "**Q3b. Assign what you think the value of x is now to the variable `y`**\n",
    "\n",
    "Then run the assert statement. If you don't get an error, you're doing well on programmatic variables and how they differ from mathematical variables."
   ]
  },
  {
   "cell_type": "code",
   "execution_count": null,
   "id": "d5fa6eb4",
   "metadata": {},
   "outputs": [],
   "source": [
    "# YOUR CODE HERE\n",
    "raise NotImplementedError()"
   ]
  },
  {
   "cell_type": "code",
   "execution_count": null,
   "id": "05820e61",
   "metadata": {},
   "outputs": [],
   "source": [
    "assert x == y\n",
    "assert x == 11\n",
    "assert y == 11"
   ]
  },
  {
   "cell_type": "markdown",
   "id": "a904f1d0",
   "metadata": {},
   "source": [
    "Dictionaries are a fundamental aspect to programming in Python. We'll create a dictionary here using the variables `numbers` and `letters` we already created.\n",
    "\n",
    "**Q4. Create a Pyton dict `dictionary` where the keys are the elements in the `letters` variable and their values are the corresponding elements in `numbers`.**"
   ]
  },
  {
   "cell_type": "code",
   "execution_count": null,
   "id": "ba3e98f5",
   "metadata": {},
   "outputs": [],
   "source": [
    "# YOUR CODE HERE\n",
    "raise NotImplementedError()"
   ]
  },
  {
   "cell_type": "code",
   "execution_count": null,
   "id": "6669b129",
   "metadata": {},
   "outputs": [],
   "source": [
    "assert sorted(dictionary.items()) == [\n",
    "    ('a', 1),\n",
    "    ('b', 2),\n",
    "    ('c', 3),\n",
    "    ('d', 4),\n",
    "    ('e', 5),\n",
    "]"
   ]
  },
  {
   "cell_type": "markdown",
   "id": "669edadb",
   "metadata": {},
   "source": [
    "**Q5.** You realize you want to add a key-value pair to `dictionary`. **Add the key value par `'f':6 ` to your dictionary. Print `dictionary`**"
   ]
  },
  {
   "cell_type": "code",
   "execution_count": null,
   "id": "f3397f8b",
   "metadata": {},
   "outputs": [],
   "source": [
    "# YOUR CODE HERE\n",
    "raise NotImplementedError()"
   ]
  },
  {
   "cell_type": "code",
   "execution_count": null,
   "id": "b7f335a7",
   "metadata": {},
   "outputs": [],
   "source": [
    "assert sorted(dictionary.items()) == [\n",
    "    ('a', 1),\n",
    "    ('b', 2),\n",
    "    ('c', 3),\n",
    "    ('d', 4),\n",
    "    ('e', 5),\n",
    "    ('f', 6)\n",
    "]"
   ]
  },
  {
   "cell_type": "markdown",
   "id": "09ea0333",
   "metadata": {},
   "source": [
    "## Part II: Functions\n",
    "\n",
    "In addition to knowing how to work with and operate on dictionaries, knowing how to define and write helpful functions is and incredibly important skill to have. We'll write a few simple functions here."
   ]
  },
  {
   "cell_type": "markdown",
   "id": "f67efbd7",
   "metadata": {},
   "source": [
    "**Q6. Write a function `sum_odd` that adds the values in a tuple together and then returns a boolean describing whether or not the sum of the values in the tuple is an odd number.**"
   ]
  },
  {
   "cell_type": "code",
   "execution_count": null,
   "id": "eb430379",
   "metadata": {},
   "outputs": [],
   "source": [
    "# YOUR CODE HERE\n",
    "raise NotImplementedError()"
   ]
  },
  {
   "cell_type": "markdown",
   "id": "6dd83518",
   "metadata": {},
   "source": [
    "**Q7. Use this function to determine if the sum of the `numbers` list you generated earlier is odd.** "
   ]
  },
  {
   "cell_type": "code",
   "execution_count": null,
   "id": "4e2129c2",
   "metadata": {},
   "outputs": [],
   "source": [
    "# YOUR CODE HERE\n",
    "raise NotImplementedError()"
   ]
  },
  {
   "cell_type": "markdown",
   "id": "f1e53a27",
   "metadata": {},
   "source": [
    "**Q8. Create a variable `even` that would produce the value 'False' from the `sum_odd` function.**"
   ]
  },
  {
   "cell_type": "code",
   "execution_count": null,
   "id": "ff00242d",
   "metadata": {},
   "outputs": [],
   "source": [
    "# YOUR CODE HERE\n",
    "raise NotImplementedError()"
   ]
  },
  {
   "cell_type": "code",
   "execution_count": null,
   "id": "dd21e8bd",
   "metadata": {},
   "outputs": [],
   "source": [
    "assert sum_odd(even) == False"
   ]
  },
  {
   "cell_type": "markdown",
   "id": "ef05caca",
   "metadata": {},
   "source": [
    "## Part III: BeautifulSoup\n",
    "\n",
    "As you already know, we'll be using BeautifulSoup for all of our web scraping needs. This section will give you an introduction on some basic methods of BeautifulSoup."
   ]
  },
  {
   "cell_type": "code",
   "execution_count": null,
   "id": "a2efe996",
   "metadata": {},
   "outputs": [],
   "source": []
  }
 ],
 "metadata": {
  "kernelspec": {
   "display_name": "Python 3 (ipykernel)",
   "language": "python",
   "name": "python3"
  },
  "language_info": {
   "codemirror_mode": {
    "name": "ipython",
    "version": 3
   },
   "file_extension": ".py",
   "mimetype": "text/x-python",
   "name": "python",
   "nbconvert_exporter": "python",
   "pygments_lexer": "ipython3",
   "version": "3.11.5"
  }
 },
 "nbformat": 4,
 "nbformat_minor": 5
}
