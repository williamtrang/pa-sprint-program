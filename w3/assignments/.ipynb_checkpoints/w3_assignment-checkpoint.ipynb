{
 "cells": [
  {
   "cell_type": "markdown",
   "id": "3c2cdede",
   "metadata": {},
   "source": [
    "# Python Sprint\n",
    "\n",
    "In this workbook, you'll get practice with the following:\n",
    "- working in a Jupyter Notebook\n",
    "- math vs. programing variables\n",
    "- dictionaries\n",
    "- indexing\n",
    "- functions"
   ]
  },
  {
   "cell_type": "markdown",
   "id": "399b387d",
   "metadata": {},
   "source": [
    "## General Instructions:\n",
    "\n",
    "Whenever you see:\n",
    "\n",
    "```python\n",
    "# YOUR CODE HERE\n",
    "raise NotImplementedError()\n",
    "```\n",
    "\n",
    "You need to **replace (meaning: delete) these lines of code with some code that answers the question**. Make sure you remove the 'raise' line when you do this (or your notebook will raise an error, regardless of any other code.\n",
    "\n",
    "You should write the answer to the questions in those cells (the ones with `# YOUR CODE HERE`), but you can also add extra cells to explore / investigate things if you need / want to. \n",
    "\n",
    "Any cell with `assert` statements in it is a test cell. If a test does fail, reading the error that is printed out should let you know which test failed, which may be useful for fixing it."
   ]
  },
  {
   "cell_type": "markdown",
   "id": "093a03b9",
   "metadata": {},
   "source": [
    "## Part I: Variables\n",
    "\n",
    "Throughout these workbooks, there will be instructions for you to follow. Be sure that you get practice following the directions as specified. While these will not be autograded, it's good to get practice now so that you don't lose unecessary points due to lack of attention to detail in your assignments later.\n",
    "\n",
    "There will be assert cells throughout. If you successfully accommplish the stated programming task and run the cell, the assert cell should run without a problem. However, if you make an error in your code, the assert cell may error."
   ]
  },
  {
   "cell_type": "markdown",
   "id": "2c263e66",
   "metadata": {},
   "source": [
    "**Q1. Define a list called `numbers` including the values 1-5 (inclusively)**"
   ]
  },
  {
   "cell_type": "code",
   "execution_count": null,
   "id": "c32ca755",
   "metadata": {},
   "outputs": [],
   "source": [
    "# YOUR CODE HERE\n",
    "raise NotImplementedError()"
   ]
  },
  {
   "cell_type": "code",
   "execution_count": null,
   "id": "c69787ad",
   "metadata": {},
   "outputs": [],
   "source": [
    "assert isinstance(numbers, list)\n",
    "assert len(numbers) == 5"
   ]
  },
  {
   "cell_type": "markdown",
   "id": "9936f26c",
   "metadata": {},
   "source": [
    "**Q2. Define a tuple called `letters` that contains the individual letters a-e (inclusively)**"
   ]
  },
  {
   "cell_type": "code",
   "execution_count": null,
   "id": "11b533de",
   "metadata": {},
   "outputs": [],
   "source": [
    "# YOUR CODE HERE\n",
    "raise NotImplementedError()"
   ]
  },
  {
   "cell_type": "code",
   "execution_count": null,
   "id": "6a757553",
   "metadata": {},
   "outputs": [],
   "source": [
    "assert isinstance(letters, tuple)\n",
    "assert len(letters) == 5"
   ]
  },
  {
   "cell_type": "markdown",
   "id": "bc69f5e0",
   "metadata": {},
   "source": [
    "Now that you've defined a few variables, let's start working with a few variables to remind ourselves of the difference between programming variables and math variables."
   ]
  },
  {
   "cell_type": "markdown",
   "id": "b700fff4",
   "metadata": {},
   "source": [
    "**Q3a. Define a variable x to have the value 10**"
   ]
  },
  {
   "cell_type": "code",
   "execution_count": null,
   "id": "abfe6055",
   "metadata": {},
   "outputs": [],
   "source": [
    "# YOUR CODE HERE\n",
    "raise NotImplementedError()"
   ]
  },
  {
   "cell_type": "code",
   "execution_count": null,
   "id": "fcf1d280",
   "metadata": {},
   "outputs": [],
   "source": [
    "assert x==10"
   ]
  },
  {
   "cell_type": "markdown",
   "id": "3fd40bc6",
   "metadata": {},
   "source": [
    "**Now that you've done that, run the following cell.**"
   ]
  },
  {
   "cell_type": "code",
   "execution_count": null,
   "id": "91b436e5",
   "metadata": {},
   "outputs": [],
   "source": [
    "x = x + 1"
   ]
  },
  {
   "cell_type": "markdown",
   "id": "124b396a",
   "metadata": {},
   "source": [
    "**Q3b. Assign what you think the value of x is now to the variable `y`**\n",
    "\n",
    "Then run the assert statement. If you don't get an error, you're doing well on programmatic variables and how they differ from mathematical variables."
   ]
  },
  {
   "cell_type": "code",
   "execution_count": null,
   "id": "3bf8a54a",
   "metadata": {},
   "outputs": [],
   "source": [
    "# YOUR CODE HERE\n",
    "raise NotImplementedError()"
   ]
  },
  {
   "cell_type": "code",
   "execution_count": null,
   "id": "2aec9e23",
   "metadata": {},
   "outputs": [],
   "source": [
    "assert x == y\n",
    "assert x == 11\n",
    "assert y == 11"
   ]
  },
  {
   "cell_type": "markdown",
   "id": "2e954a5e",
   "metadata": {},
   "source": [
    "Dictionaries are a fundamental aspect to programming in Python. We'll create a dictionary here using the variables `numbers` and `letters` we already created.\n",
    "\n",
    "**Q4. Create a Pyton dict `dictionary` where the keys are the elements in the `letters` variable and their values are the corresponding elements in `numbers`.**"
   ]
  },
  {
   "cell_type": "code",
   "execution_count": null,
   "id": "2f9d9b9e",
   "metadata": {},
   "outputs": [],
   "source": [
    "# YOUR CODE HERE\n",
    "raise NotImplementedError()"
   ]
  },
  {
   "cell_type": "code",
   "execution_count": null,
   "id": "a86a93fd",
   "metadata": {},
   "outputs": [],
   "source": [
    "assert sorted(dictionary.items()) == [\n",
    "    ('a', 1),\n",
    "    ('b', 2),\n",
    "    ('c', 3),\n",
    "    ('d', 4),\n",
    "    ('e', 5),\n",
    "]"
   ]
  },
  {
   "cell_type": "markdown",
   "id": "245464c5",
   "metadata": {},
   "source": [
    "**Q5.** You realize you want to add a key-value pair to `dictionary`. **Add the key value par `'f':6 ` to your dictionary. Print `dictionary`**"
   ]
  },
  {
   "cell_type": "code",
   "execution_count": null,
   "id": "2836b134",
   "metadata": {},
   "outputs": [],
   "source": [
    "# YOUR CODE HERE\n",
    "raise NotImplementedError()"
   ]
  },
  {
   "cell_type": "code",
   "execution_count": null,
   "id": "415b9ec8",
   "metadata": {},
   "outputs": [],
   "source": [
    "assert sorted(dictionary.items()) == [\n",
    "    ('a', 1),\n",
    "    ('b', 2),\n",
    "    ('c', 3),\n",
    "    ('d', 4),\n",
    "    ('e', 5),\n",
    "    ('f', 6)\n",
    "]"
   ]
  },
  {
   "cell_type": "markdown",
   "id": "25e356a2",
   "metadata": {},
   "source": [
    "## Part II: Functions\n",
    "\n",
    "In addition to knowing how to work with and operate on dictionaries, knowing how to define and write helpful functions is and incredibly important skill to have. We'll write a few simple functions here."
   ]
  },
  {
   "cell_type": "markdown",
   "id": "b8c497ff",
   "metadata": {},
   "source": [
    "**Q6. Write a function `sum_odd` that adds the values in a tuple together and then returns a boolean describing whether or not the sum of the values in the tuple is an odd number.**"
   ]
  },
  {
   "cell_type": "code",
   "execution_count": null,
   "id": "6a05abd7",
   "metadata": {},
   "outputs": [],
   "source": [
    "# YOUR CODE HERE\n",
    "raise NotImplementedError()"
   ]
  },
  {
   "cell_type": "markdown",
   "id": "96f2f953",
   "metadata": {},
   "source": [
    "**Q7. Use this function to determine if the sum of the `numbers` list you generated earlier is odd.** "
   ]
  },
  {
   "cell_type": "code",
   "execution_count": null,
   "id": "d29ac4c5",
   "metadata": {},
   "outputs": [],
   "source": [
    "# YOUR CODE HERE\n",
    "raise NotImplementedError()"
   ]
  },
  {
   "cell_type": "markdown",
   "id": "7f8b9251",
   "metadata": {},
   "source": [
    "**Q8. Create a variable `even` that would produce the value 'False' from the `sum_odd` function.**"
   ]
  },
  {
   "cell_type": "code",
   "execution_count": null,
   "id": "a6c14b1f",
   "metadata": {},
   "outputs": [],
   "source": [
    "# YOUR CODE HERE\n",
    "raise NotImplementedError()"
   ]
  },
  {
   "cell_type": "code",
   "execution_count": null,
   "id": "7ceba03c",
   "metadata": {},
   "outputs": [],
   "source": [
    "assert sum_odd(even) == False"
   ]
  },
  {
   "cell_type": "markdown",
   "id": "582f9a2b",
   "metadata": {},
   "source": [
    "## Part III: BeautifulSoup\n",
    "\n",
    "As you already know, we'll be using BeautifulSoup for all of our web scraping needs. This section will give you an introduction on some basic methods of BeautifulSoup."
   ]
  },
  {
   "cell_type": "markdown",
   "id": "cf684bbd",
   "metadata": {},
   "source": [
    "**Q9a. Import the necessary packages to get started (BeautifulSoup and requests).**"
   ]
  },
  {
   "cell_type": "code",
   "execution_count": 1,
   "id": "3475826c",
   "metadata": {},
   "outputs": [
    {
     "ename": "NotImplementedError",
     "evalue": "",
     "output_type": "error",
     "traceback": [
      "\u001b[0;31m---------------------------------------------------------------------------\u001b[0m",
      "\u001b[0;31mNotImplementedError\u001b[0m                       Traceback (most recent call last)",
      "Cell \u001b[0;32mIn[1], line 2\u001b[0m\n\u001b[1;32m      1\u001b[0m \u001b[38;5;66;03m# YOUR CODE HERE\u001b[39;00m\n\u001b[0;32m----> 2\u001b[0m \u001b[38;5;28;01mraise\u001b[39;00m \u001b[38;5;167;01mNotImplementedError\u001b[39;00m()\n",
      "\u001b[0;31mNotImplementedError\u001b[0m: "
     ]
    }
   ],
   "source": [
    "# YOUR CODE HERE\n",
    "raise NotImplementedError()"
   ]
  },
  {
   "cell_type": "markdown",
   "id": "d1d81829",
   "metadata": {},
   "source": [
    "**Q9b. Create a variable to hold the URL of the page to scrape (use quotes.toscrape.com), and send the HTTP request to the page. Set the response of the HTTP request to a variable as well.**"
   ]
  },
  {
   "cell_type": "code",
   "execution_count": 2,
   "id": "57622147",
   "metadata": {},
   "outputs": [
    {
     "ename": "NotImplementedError",
     "evalue": "",
     "output_type": "error",
     "traceback": [
      "\u001b[0;31m---------------------------------------------------------------------------\u001b[0m",
      "\u001b[0;31mNotImplementedError\u001b[0m                       Traceback (most recent call last)",
      "Cell \u001b[0;32mIn[2], line 2\u001b[0m\n\u001b[1;32m      1\u001b[0m \u001b[38;5;66;03m# YOUR CODE HERE\u001b[39;00m\n\u001b[0;32m----> 2\u001b[0m \u001b[38;5;28;01mraise\u001b[39;00m \u001b[38;5;167;01mNotImplementedError\u001b[39;00m()\n",
      "\u001b[0;31mNotImplementedError\u001b[0m: "
     ]
    }
   ],
   "source": [
    "# YOUR CODE HERE\n",
    "raise NotImplementedError()"
   ]
  },
  {
   "cell_type": "markdown",
   "id": "4bb56700",
   "metadata": {},
   "source": [
    "**Q9c. Create a soup object using the output of the HTTP request.**"
   ]
  },
  {
   "cell_type": "code",
   "execution_count": 3,
   "id": "01c19d8c",
   "metadata": {},
   "outputs": [
    {
     "ename": "NotImplementedError",
     "evalue": "",
     "output_type": "error",
     "traceback": [
      "\u001b[0;31m---------------------------------------------------------------------------\u001b[0m",
      "\u001b[0;31mNotImplementedError\u001b[0m                       Traceback (most recent call last)",
      "Cell \u001b[0;32mIn[3], line 2\u001b[0m\n\u001b[1;32m      1\u001b[0m \u001b[38;5;66;03m# YOUR CODE HERE\u001b[39;00m\n\u001b[0;32m----> 2\u001b[0m \u001b[38;5;28;01mraise\u001b[39;00m \u001b[38;5;167;01mNotImplementedError\u001b[39;00m()\n",
      "\u001b[0;31mNotImplementedError\u001b[0m: "
     ]
    }
   ],
   "source": [
    "# YOUR CODE HERE\n",
    "raise NotImplementedError()"
   ]
  },
  {
   "cell_type": "markdown",
   "id": "b026d99d",
   "metadata": {},
   "source": [
    "**Q9d. Use the soup object to find all the 'p' elements in the HTML. Use a loop to print out the text values of all of them.**"
   ]
  },
  {
   "cell_type": "code",
   "execution_count": 4,
   "id": "37cf81cd",
   "metadata": {},
   "outputs": [
    {
     "ename": "NotImplementedError",
     "evalue": "",
     "output_type": "error",
     "traceback": [
      "\u001b[0;31m---------------------------------------------------------------------------\u001b[0m",
      "\u001b[0;31mNotImplementedError\u001b[0m                       Traceback (most recent call last)",
      "Cell \u001b[0;32mIn[4], line 2\u001b[0m\n\u001b[1;32m      1\u001b[0m \u001b[38;5;66;03m# YOUR CODE HERE\u001b[39;00m\n\u001b[0;32m----> 2\u001b[0m \u001b[38;5;28;01mraise\u001b[39;00m \u001b[38;5;167;01mNotImplementedError\u001b[39;00m()\n",
      "\u001b[0;31mNotImplementedError\u001b[0m: "
     ]
    }
   ],
   "source": [
    "# YOUR CODE HERE\n",
    "raise NotImplementedError()"
   ]
  },
  {
   "cell_type": "markdown",
   "id": "15b1a9e5",
   "metadata": {},
   "source": [
    "**Q9e. Use the soup object again to find all 'a' elements with the class 'tag'.**"
   ]
  },
  {
   "cell_type": "code",
   "execution_count": 5,
   "id": "326ddf1d",
   "metadata": {},
   "outputs": [
    {
     "ename": "NotImplementedError",
     "evalue": "",
     "output_type": "error",
     "traceback": [
      "\u001b[0;31m---------------------------------------------------------------------------\u001b[0m",
      "\u001b[0;31mNotImplementedError\u001b[0m                       Traceback (most recent call last)",
      "Cell \u001b[0;32mIn[5], line 2\u001b[0m\n\u001b[1;32m      1\u001b[0m \u001b[38;5;66;03m# YOUR CODE HERE\u001b[39;00m\n\u001b[0;32m----> 2\u001b[0m \u001b[38;5;28;01mraise\u001b[39;00m \u001b[38;5;167;01mNotImplementedError\u001b[39;00m()\n",
      "\u001b[0;31mNotImplementedError\u001b[0m: "
     ]
    }
   ],
   "source": [
    "# YOUR CODE HERE\n",
    "raise NotImplementedError()"
   ]
  },
  {
   "cell_type": "markdown",
   "id": "b66b3a37",
   "metadata": {},
   "source": [
    "**Q9f. Now, try using the `select` function to get all the 'span' elements in the soup.**"
   ]
  },
  {
   "cell_type": "code",
   "execution_count": 6,
   "id": "5001fdbe",
   "metadata": {},
   "outputs": [
    {
     "ename": "NotImplementedError",
     "evalue": "",
     "output_type": "error",
     "traceback": [
      "\u001b[0;31m---------------------------------------------------------------------------\u001b[0m",
      "\u001b[0;31mNotImplementedError\u001b[0m                       Traceback (most recent call last)",
      "Cell \u001b[0;32mIn[6], line 2\u001b[0m\n\u001b[1;32m      1\u001b[0m \u001b[38;5;66;03m# YOUR CODE HERE\u001b[39;00m\n\u001b[0;32m----> 2\u001b[0m \u001b[38;5;28;01mraise\u001b[39;00m \u001b[38;5;167;01mNotImplementedError\u001b[39;00m()\n",
      "\u001b[0;31mNotImplementedError\u001b[0m: "
     ]
    }
   ],
   "source": [
    "# YOUR CODE HERE\n",
    "raise NotImplementedError()"
   ]
  },
  {
   "cell_type": "markdown",
   "id": "a5179772",
   "metadata": {},
   "source": [
    "## Part III: BeautifulSoup Challenges\n",
    "\n",
    "The section provided above is "
   ]
  }
 ],
 "metadata": {
  "kernelspec": {
   "display_name": "Python 3 (ipykernel)",
   "language": "python",
   "name": "python3"
  },
  "language_info": {
   "codemirror_mode": {
    "name": "ipython",
    "version": 3
   },
   "file_extension": ".py",
   "mimetype": "text/x-python",
   "name": "python",
   "nbconvert_exporter": "python",
   "pygments_lexer": "ipython3",
   "version": "3.11.5"
  }
 },
 "nbformat": 4,
 "nbformat_minor": 5
}
