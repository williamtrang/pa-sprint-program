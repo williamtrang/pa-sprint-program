{
 "cells": [
  {
   "cell_type": "markdown",
   "id": "84a02ba9",
   "metadata": {},
   "source": [
    "# Python Sprint\n",
    "\n",
    "In this workbook, you'll get practice with the following:\n",
    "- working in a Jupyter Notebook\n",
    "- math vs. programing variables\n",
    "- dictionaries\n",
    "- indexing\n",
    "- functions"
   ]
  },
  {
   "cell_type": "markdown",
   "id": "87364919",
   "metadata": {},
   "source": [
    "## General Instructions:\n",
    "\n",
    "Whenever you see:\n",
    "\n",
    "```python\n",
    "# YOUR CODE HERE\n",
    "raise NotImplementedError()\n",
    "```\n",
    "\n",
    "You need to **replace (meaning: delete) these lines of code with some code that answers the question**. Make sure you remove the 'raise' line when you do this (or your notebook will raise an error, regardless of any other code.\n",
    "\n",
    "You should write the answer to the questions in those cells (the ones with `# YOUR CODE HERE`), but you can also add extra cells to explore / investigate things if you need / want to. \n",
    "\n",
    "Any cell with `assert` statements in it is a test cell. If a test does fail, reading the error that is printed out should let you know which test failed, which may be useful for fixing it."
   ]
  },
  {
   "cell_type": "markdown",
   "id": "d1ac8328",
   "metadata": {},
   "source": [
    "## Part I: Variables\n",
    "\n",
    "Throughout these workbooks, there will be instructions for you to follow. Be sure that you get practice following the directions as specified. While these will not be autograded, it's good to get practice now so that you don't lose unecessary points due to lack of attention to detail in your assignments later.\n",
    "\n",
    "There will be assert cells throughout. If you successfully accommplish the stated programming task and run the cell, the assert cell should run without a problem. However, if you make an error in your code, the assert cell may error."
   ]
  },
  {
   "cell_type": "markdown",
   "id": "ccdded33",
   "metadata": {},
   "source": [
    "**Q1. Define a list called `numbers` including the values 1-5 (inclusively)**"
   ]
  },
  {
   "cell_type": "code",
   "execution_count": null,
   "id": "2f186bf4",
   "metadata": {},
   "outputs": [],
   "source": [
    "# YOUR CODE HERE\n",
    "raise NotImplementedError()"
   ]
  },
  {
   "cell_type": "code",
   "execution_count": null,
   "id": "e0b4942e",
   "metadata": {},
   "outputs": [],
   "source": [
    "assert isinstance(numbers, list)\n",
    "assert len(numbers) == 5"
   ]
  },
  {
   "cell_type": "markdown",
   "id": "ec0fb900",
   "metadata": {},
   "source": [
    "**Q2. Define a tuple called `letters` that contains the individual letters a-e (inclusively)**"
   ]
  },
  {
   "cell_type": "code",
   "execution_count": null,
   "id": "fc4f040a",
   "metadata": {},
   "outputs": [],
   "source": [
    "# YOUR CODE HERE\n",
    "raise NotImplementedError()"
   ]
  },
  {
   "cell_type": "code",
   "execution_count": null,
   "id": "f289c2f2",
   "metadata": {},
   "outputs": [],
   "source": [
    "assert isinstance(letters, tuple)\n",
    "assert len(letters) == 5"
   ]
  },
  {
   "cell_type": "markdown",
   "id": "8d2d6320",
   "metadata": {},
   "source": [
    "Now that you've defined a few variables, let's start working with a few variables to remind ourselves of the difference between programming variables and math variables."
   ]
  },
  {
   "cell_type": "markdown",
   "id": "97c14f35",
   "metadata": {},
   "source": [
    "**Q3a. Define a variable x to have the value 10**"
   ]
  },
  {
   "cell_type": "code",
   "execution_count": null,
   "id": "0dea965d",
   "metadata": {},
   "outputs": [],
   "source": [
    "# YOUR CODE HERE\n",
    "raise NotImplementedError()"
   ]
  },
  {
   "cell_type": "code",
   "execution_count": null,
   "id": "a335386b",
   "metadata": {},
   "outputs": [],
   "source": [
    "assert x==10"
   ]
  },
  {
   "cell_type": "markdown",
   "id": "f4d8706d",
   "metadata": {},
   "source": [
    "**Now that you've done that, run the following cell.**"
   ]
  },
  {
   "cell_type": "code",
   "execution_count": null,
   "id": "e256e5fc",
   "metadata": {},
   "outputs": [],
   "source": [
    "x = x + 1"
   ]
  },
  {
   "cell_type": "markdown",
   "id": "76f072f8",
   "metadata": {},
   "source": [
    "**Q3b. Assign what you think the value of x is now to the variable `y`**\n",
    "\n",
    "Then run the assert statement. If you don't get an error, you're doing well on programmatic variables and how they differ from mathematical variables."
   ]
  },
  {
   "cell_type": "code",
   "execution_count": null,
   "id": "abe1cdea",
   "metadata": {},
   "outputs": [],
   "source": [
    "# YOUR CODE HERE\n",
    "raise NotImplementedError()"
   ]
  },
  {
   "cell_type": "code",
   "execution_count": null,
   "id": "4100e49b",
   "metadata": {},
   "outputs": [],
   "source": [
    "assert x == y\n",
    "assert x == 11\n",
    "assert y == 11"
   ]
  },
  {
   "cell_type": "markdown",
   "id": "2ed0e6f0",
   "metadata": {},
   "source": [
    "Dictionaries are a fundamental aspect to programming in Python. We'll create a dictionary here using the variables `numbers` and `letters` we already created.\n",
    "\n",
    "**Q4. Create a Pyton dict `dictionary` where the keys are the elements in the `letters` variable and their values are the corresponding elements in `numbers`.**"
   ]
  },
  {
   "cell_type": "code",
   "execution_count": null,
   "id": "985b33a1",
   "metadata": {},
   "outputs": [],
   "source": [
    "# YOUR CODE HERE\n",
    "raise NotImplementedError()"
   ]
  },
  {
   "cell_type": "code",
   "execution_count": null,
   "id": "53b02976",
   "metadata": {},
   "outputs": [],
   "source": [
    "assert sorted(dictionary.items()) == [\n",
    "    ('a', 1),\n",
    "    ('b', 2),\n",
    "    ('c', 3),\n",
    "    ('d', 4),\n",
    "    ('e', 5),\n",
    "]"
   ]
  },
  {
   "cell_type": "markdown",
   "id": "3028f130",
   "metadata": {},
   "source": [
    "**Q5.** You realize you want to add a key-value pair to `dictionary`. **Add the key value par `'f':6 ` to your dictionary. Print `dictionary`**"
   ]
  },
  {
   "cell_type": "code",
   "execution_count": null,
   "id": "707baa31",
   "metadata": {},
   "outputs": [],
   "source": [
    "# YOUR CODE HERE\n",
    "raise NotImplementedError()"
   ]
  },
  {
   "cell_type": "code",
   "execution_count": null,
   "id": "6eb915bd",
   "metadata": {},
   "outputs": [],
   "source": [
    "assert sorted(dictionary.items()) == [\n",
    "    ('a', 1),\n",
    "    ('b', 2),\n",
    "    ('c', 3),\n",
    "    ('d', 4),\n",
    "    ('e', 5),\n",
    "    ('f', 6)\n",
    "]"
   ]
  },
  {
   "cell_type": "markdown",
   "id": "7e28bab4",
   "metadata": {},
   "source": [
    "## Part II: Functions\n",
    "\n",
    "In addition to knowing how to work with and operate on dictionaries, knowing how to define and write helpful functions is and incredibly important skill to have. We'll write a few simple functions here."
   ]
  },
  {
   "cell_type": "markdown",
   "id": "4f483d32",
   "metadata": {},
   "source": [
    "**Q6. Write a function `sum_odd` that adds the values in a tuple together and then returns a boolean describing whether or not the sum of the values in the tuple is an odd number.**"
   ]
  },
  {
   "cell_type": "code",
   "execution_count": null,
   "id": "7b94a1da",
   "metadata": {},
   "outputs": [],
   "source": [
    "# YOUR CODE HERE\n",
    "raise NotImplementedError()"
   ]
  },
  {
   "cell_type": "markdown",
   "id": "44b8db89",
   "metadata": {},
   "source": [
    "**Q7. Use this function to determine if the sum of the `numbers` list you generated earlier is odd.** "
   ]
  },
  {
   "cell_type": "code",
   "execution_count": null,
   "id": "57763801",
   "metadata": {},
   "outputs": [],
   "source": [
    "# YOUR CODE HERE\n",
    "raise NotImplementedError()"
   ]
  },
  {
   "cell_type": "markdown",
   "id": "c732436e",
   "metadata": {},
   "source": [
    "**Q8. Create a variable `even` that would produce the value 'False' from the `sum_odd` function.**"
   ]
  },
  {
   "cell_type": "code",
   "execution_count": null,
   "id": "8954ba15",
   "metadata": {},
   "outputs": [],
   "source": [
    "# YOUR CODE HERE\n",
    "raise NotImplementedError()"
   ]
  },
  {
   "cell_type": "code",
   "execution_count": null,
   "id": "58b754d3",
   "metadata": {},
   "outputs": [],
   "source": [
    "assert sum_odd(even) == False"
   ]
  },
  {
   "cell_type": "markdown",
   "id": "8ad6f49a",
   "metadata": {},
   "source": [
    "## Part III: BeautifulSoup\n",
    "\n",
    "As you already know, we'll be using BeautifulSoup for all of our web scraping needs. This section will give you an introduction on some basic methods of BeautifulSoup."
   ]
  },
  {
   "cell_type": "markdown",
   "id": "baff5fca",
   "metadata": {},
   "source": [
    "**Q9a. Import the necessary packages to get started (BeautifulSoup and requests).**"
   ]
  },
  {
   "cell_type": "code",
   "execution_count": null,
   "id": "08b466e6",
   "metadata": {},
   "outputs": [],
   "source": [
    "# YOUR CODE HERE\n",
    "raise NotImplementedError()"
   ]
  },
  {
   "cell_type": "markdown",
   "id": "0d3fc927",
   "metadata": {},
   "source": [
    "**Q9b. Create a variable to hold the URL of the page to scrape (use quotes.toscrape.com), and send the HTTP request to the page. Set the response of the HTTP request to a variable as well.**"
   ]
  },
  {
   "cell_type": "code",
   "execution_count": null,
   "id": "83379695",
   "metadata": {},
   "outputs": [],
   "source": [
    "# YOUR CODE HERE\n",
    "raise NotImplementedError()"
   ]
  },
  {
   "cell_type": "markdown",
   "id": "4338f6a6",
   "metadata": {},
   "source": [
    "**Q9c. Create a soup object using the output of the HTTP request.**"
   ]
  },
  {
   "cell_type": "code",
   "execution_count": null,
   "id": "c44e639e",
   "metadata": {},
   "outputs": [],
   "source": [
    "# YOUR CODE HERE\n",
    "raise NotImplementedError()"
   ]
  },
  {
   "cell_type": "markdown",
   "id": "26fa98a8",
   "metadata": {},
   "source": [
    "**Q9d. Use the soup object to find all the 'p' elements in the HTML. Use a loop to print out the text values of all of them.**"
   ]
  },
  {
   "cell_type": "code",
   "execution_count": null,
   "id": "9bcb66e0",
   "metadata": {},
   "outputs": [],
   "source": [
    "# YOUR CODE HERE\n",
    "raise NotImplementedError()"
   ]
  },
  {
   "cell_type": "markdown",
   "id": "4b151ed2",
   "metadata": {},
   "source": [
    "**Q9e. Use the soup object again to find all 'a' elements with the class 'tag'.**"
   ]
  },
  {
   "cell_type": "code",
   "execution_count": null,
   "id": "4686745f",
   "metadata": {},
   "outputs": [],
   "source": [
    "# YOUR CODE HERE\n",
    "raise NotImplementedError()"
   ]
  },
  {
   "cell_type": "markdown",
   "id": "625f3e58",
   "metadata": {},
   "source": [
    "**Q9f. Now, try using the `select` function to get all the 'span' elements in the soup.**"
   ]
  },
  {
   "cell_type": "code",
   "execution_count": null,
   "id": "e262d8cd",
   "metadata": {},
   "outputs": [],
   "source": [
    "# YOUR CODE HERE\n",
    "raise NotImplementedError()"
   ]
  },
  {
   "cell_type": "markdown",
   "id": "44dc364f",
   "metadata": {},
   "source": [
    "## Part IV: BeautifulSoup Challenges\n",
    "\n",
    "The section provided above is an introduction to BeautifulSoup, while below contains materials intended to be more difficult than the materials provided above. You will likely have to search through the documentation/the Internet to do some of these tasks."
   ]
  },
  {
   "cell_type": "markdown",
   "id": "3479137c",
   "metadata": {},
   "source": [
    "**Q10. Look through the [Beautiful Soup Documentation](https://www.crummy.com/software/BeautifulSoup/bs4/doc/), select a method, and implement it on the soup you already created.**"
   ]
  },
  {
   "cell_type": "code",
   "execution_count": null,
   "id": "2efaf8f3",
   "metadata": {},
   "outputs": [],
   "source": [
    "# YOUR CODE HERE\n",
    "raise NotImplementedError()"
   ]
  },
  {
   "cell_type": "markdown",
   "id": "cb89035e",
   "metadata": {},
   "source": [
    "**Q11. Create another soup using `books.toscrape.com`. Create a filter on the soup to find all the elements with an id, but no class. (hint: you can put callables, like a function, into `find_all`.**"
   ]
  },
  {
   "cell_type": "code",
   "execution_count": null,
   "id": "65d09688",
   "metadata": {},
   "outputs": [],
   "source": [
    "# YOUR CODE HERE\n",
    "raise NotImplementedError()"
   ]
  },
  {
   "cell_type": "markdown",
   "id": "44237324",
   "metadata": {},
   "source": [
    "**Q12. Using the extracted text from an element of your choice, export all the data into a CSV file.**"
   ]
  },
  {
   "cell_type": "code",
   "execution_count": null,
   "id": "42343aff",
   "metadata": {},
   "outputs": [],
   "source": [
    "# YOUR CODE HERE\n",
    "raise NotImplementedError()"
   ]
  },
  {
   "cell_type": "markdown",
   "id": "4d67ea1d",
   "metadata": {},
   "source": [
    "**Q13. Using a site like wikipedia, navigate through multiple pages and get information like the title and main header.**"
   ]
  },
  {
   "cell_type": "code",
   "execution_count": null,
   "id": "bdd9ac92",
   "metadata": {},
   "outputs": [],
   "source": [
    "# YOUR CODE HERE\n",
    "raise NotImplementedError()"
   ]
  },
  {
   "cell_type": "markdown",
   "id": "aab10987",
   "metadata": {},
   "source": [
    "**Q14. Ensure good practices in your script.**\n",
    "\n",
    "- Ensure that the HTTP request goes through before attempting to access the data\n",
    "- In future cases, save the HTML so it only has to be accessed once\n"
   ]
  },
  {
   "cell_type": "code",
   "execution_count": null,
   "id": "ad98677c",
   "metadata": {},
   "outputs": [],
   "source": [
    "# YOUR CODE HERE\n",
    "raise NotImplementedError()"
   ]
  },
  {
   "cell_type": "code",
   "execution_count": null,
   "id": "d719dcff",
   "metadata": {},
   "outputs": [],
   "source": []
  }
 ],
 "metadata": {
  "kernelspec": {
   "display_name": "Python 3 (ipykernel)",
   "language": "python",
   "name": "python3"
  },
  "language_info": {
   "codemirror_mode": {
    "name": "ipython",
    "version": 3
   },
   "file_extension": ".py",
   "mimetype": "text/x-python",
   "name": "python",
   "nbconvert_exporter": "python",
   "pygments_lexer": "ipython3",
   "version": "3.11.5"
  }
 },
 "nbformat": 4,
 "nbformat_minor": 5
}
