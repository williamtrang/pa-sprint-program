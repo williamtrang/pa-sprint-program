{
 "cells": [
  {
   "cell_type": "markdown",
   "id": "f98de92c",
   "metadata": {},
   "source": [
    "# Git Assignment\n"
   ]
  },
  {
   "cell_type": "code",
   "execution_count": null,
   "id": "593f7d98",
   "metadata": {},
   "outputs": [],
   "source": []
  },
  {
   "cell_type": "markdown",
   "id": "81f4dd4a",
   "metadata": {},
   "source": [
    "**Q1. Work through the [Hello World GitHub Guide](https://guides.github.com/activities/hello-world/), carrying out all 5 steps**, being sure to understand what you're doing in each step."
   ]
  },
  {
   "cell_type": "code",
   "execution_count": null,
   "id": "a8dd4593",
   "metadata": {},
   "outputs": [],
   "source": []
  }
 ],
 "metadata": {
  "kernelspec": {
   "display_name": "Python 3 (ipykernel)",
   "language": "python",
   "name": "python3"
  },
  "language_info": {
   "codemirror_mode": {
    "name": "ipython",
    "version": 3
   },
   "file_extension": ".py",
   "mimetype": "text/x-python",
   "name": "python",
   "nbconvert_exporter": "python",
   "pygments_lexer": "ipython3",
   "version": "3.11.5"
  }
 },
 "nbformat": 4,
 "nbformat_minor": 5
}
