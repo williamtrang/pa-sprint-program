{
 "cells": [
  {
   "cell_type": "markdown",
   "id": "56da6ff7",
   "metadata": {},
   "source": [
    "# APIs\n",
    "\n",
    "This notebook will go over the basics of using APIs in Python. We're going to start with building a basic application to get the weather, then move on to trying to use an API to do whatever you want."
   ]
  },
  {
   "cell_type": "markdown",
   "id": "f3892f3b",
   "metadata": {},
   "source": [
    "**1. Open the [WeatherAPI website](https://www.weatherapi.com/), sign up and create an account.**"
   ]
  },
  {
   "cell_type": "markdown",
   "id": "d437ae9d",
   "metadata": {},
   "source": [
    "**2. Define a variable called `KEY` and store your API key in that variable.**"
   ]
  },
  {
   "cell_type": "code",
   "execution_count": 1,
   "id": "415b0aa7",
   "metadata": {},
   "outputs": [],
   "source": [
    "KEY = 'ee533fd3a8344a4596a125851241901'"
   ]
  },
  {
   "cell_type": "markdown",
   "id": "e8e66bc8",
   "metadata": {},
   "source": [
    "**3. Look at the [Weather API Docs](https://www.weatherapi.com/docs/), scroll down to example. Make an HTTP request to the website shown in the example. Make sure you replace the API key part with your own.**"
   ]
  },
  {
   "cell_type": "code",
   "execution_count": 2,
   "id": "3e83a9d1",
   "metadata": {},
   "outputs": [],
   "source": [
    "import requests"
   ]
  },
  {
   "cell_type": "code",
   "execution_count": 13,
   "id": "0b9b5401",
   "metadata": {},
   "outputs": [],
   "source": [
    "r = requests.get(f'http://api.weatherapi.com/v1/current.json?key={KEY}&q=London')"
   ]
  },
  {
   "cell_type": "markdown",
   "id": "4de0fb05",
   "metadata": {},
   "source": [
    "**4. Use `literal_eval` function on the response to turn it into a Python usable structure. Try extracting the temperature in Celsius, the humidity, and the wind in kilometers per hour.**"
   ]
  },
  {
   "cell_type": "code",
   "execution_count": 15,
   "id": "c5960455",
   "metadata": {},
   "outputs": [
    {
     "data": {
      "text/plain": [
       "'{\"location\":{\"name\":\"London\",\"region\":\"City of London, Greater London\",\"country\":\"United Kingdom\",\"lat\":51.52,\"lon\":-0.11,\"tz_id\":\"Europe/London\",\"localtime_epoch\":1706287343,\"localtime\":\"2024-01-26 16:42\"},\"current\":{\"last_updated_epoch\":1706286600,\"last_updated\":\"2024-01-26 16:30\",\"temp_c\":8.0,\"temp_f\":46.4,\"is_day\":0,\"condition\":{\"text\":\"Clear\",\"icon\":\"//cdn.weatherapi.com/weather/64x64/night/113.png\",\"code\":1000},\"wind_mph\":6.9,\"wind_kph\":11.2,\"wind_degree\":270,\"wind_dir\":\"W\",\"pressure_mb\":1032.0,\"pressure_in\":30.47,\"precip_mm\":0.0,\"precip_in\":0.0,\"humidity\":57,\"cloud\":0,\"feelslike_c\":5.9,\"feelslike_f\":42.5,\"vis_km\":10.0,\"vis_miles\":6.0,\"uv\":3.0,\"gust_mph\":10.7,\"gust_kph\":17.2}}'"
      ]
     },
     "execution_count": 15,
     "metadata": {},
     "output_type": "execute_result"
    }
   ],
   "source": []
  },
  {
   "cell_type": "code",
   "execution_count": 19,
   "id": "e19b5a13",
   "metadata": {},
   "outputs": [],
   "source": [
    "d = eval(r.text)"
   ]
  },
  {
   "cell_type": "code",
   "execution_count": 22,
   "id": "13389c59",
   "metadata": {},
   "outputs": [
    {
     "data": {
      "text/plain": [
       "{'location': {'name': 'London',\n",
       "  'region': 'City of London, Greater London',\n",
       "  'country': 'United Kingdom',\n",
       "  'lat': 51.52,\n",
       "  'lon': -0.11,\n",
       "  'tz_id': 'Europe/London',\n",
       "  'localtime_epoch': 1706287343,\n",
       "  'localtime': '2024-01-26 16:42'},\n",
       " 'current': {'last_updated_epoch': 1706286600,\n",
       "  'last_updated': '2024-01-26 16:30',\n",
       "  'temp_c': 8.0,\n",
       "  'temp_f': 46.4,\n",
       "  'is_day': 0,\n",
       "  'condition': {'text': 'Clear',\n",
       "   'icon': '//cdn.weatherapi.com/weather/64x64/night/113.png',\n",
       "   'code': 1000},\n",
       "  'wind_mph': 6.9,\n",
       "  'wind_kph': 11.2,\n",
       "  'wind_degree': 270,\n",
       "  'wind_dir': 'W',\n",
       "  'pressure_mb': 1032.0,\n",
       "  'pressure_in': 30.47,\n",
       "  'precip_mm': 0.0,\n",
       "  'precip_in': 0.0,\n",
       "  'humidity': 57,\n",
       "  'cloud': 0,\n",
       "  'feelslike_c': 5.9,\n",
       "  'feelslike_f': 42.5,\n",
       "  'vis_km': 10.0,\n",
       "  'vis_miles': 6.0,\n",
       "  'uv': 3.0,\n",
       "  'gust_mph': 10.7,\n",
       "  'gust_kph': 17.2}}"
      ]
     },
     "execution_count": 22,
     "metadata": {},
     "output_type": "execute_result"
    }
   ],
   "source": [
    "d"
   ]
  },
  {
   "cell_type": "code",
   "execution_count": 34,
   "id": "d5c48165",
   "metadata": {},
   "outputs": [],
   "source": [
    "import json\n",
    "import pandas as pd"
   ]
  },
  {
   "cell_type": "code",
   "execution_count": 39,
   "id": "8bcc4a16",
   "metadata": {},
   "outputs": [
    {
     "data": {
      "text/plain": [
       "{'last_updated_epoch': 1706286600,\n",
       " 'last_updated': '2024-01-26 16:30',\n",
       " 'temp_c': 8.0,\n",
       " 'temp_f': 46.4,\n",
       " 'is_day': 0,\n",
       " 'condition': {'text': 'Clear',\n",
       "  'icon': '//cdn.weatherapi.com/weather/64x64/night/113.png',\n",
       "  'code': 1000},\n",
       " 'wind_mph': 6.9,\n",
       " 'wind_kph': 11.2,\n",
       " 'wind_degree': 270,\n",
       " 'wind_dir': 'W',\n",
       " 'pressure_mb': 1032.0,\n",
       " 'pressure_in': 30.47,\n",
       " 'precip_mm': 0.0,\n",
       " 'precip_in': 0.0,\n",
       " 'humidity': 57,\n",
       " 'cloud': 0,\n",
       " 'feelslike_c': 5.9,\n",
       " 'feelslike_f': 42.5,\n",
       " 'vis_km': 10.0,\n",
       " 'vis_miles': 6.0,\n",
       " 'uv': 3.0,\n",
       " 'gust_mph': 10.7,\n",
       " 'gust_kph': 17.2}"
      ]
     },
     "execution_count": 39,
     "metadata": {},
     "output_type": "execute_result"
    }
   ],
   "source": [
    "json.loads(r.text)['current']"
   ]
  },
  {
   "cell_type": "markdown",
   "id": "e85896b2",
   "metadata": {},
   "source": [
    "**5. Investigate the structure of what you just wrote. What does `current.xml` mean? What is the query city for?**"
   ]
  },
  {
   "cell_type": "markdown",
   "id": "3c03f730",
   "metadata": {},
   "source": [
    "**6. Now, using what you just investigated, try getting the 5 day forecast for the zip code 94612 in XML format.**"
   ]
  },
  {
   "cell_type": "code",
   "execution_count": null,
   "id": "d9da0da6",
   "metadata": {},
   "outputs": [],
   "source": [
    "# YOUR CODE HERE\n",
    "raise NotImplementedError()"
   ]
  },
  {
   "cell_type": "markdown",
   "id": "2d566b12",
   "metadata": {},
   "source": [
    "**7. Get the upcoming sports events in Seoul.**"
   ]
  },
  {
   "cell_type": "code",
   "execution_count": null,
   "id": "047b966d",
   "metadata": {},
   "outputs": [],
   "source": [
    "# YOUR CODE HERE\n",
    "raise NotImplementedError()"
   ]
  },
  {
   "cell_type": "markdown",
   "id": "8b21b478",
   "metadata": {},
   "source": [
    "## II. Free Exploration"
   ]
  },
  {
   "cell_type": "markdown",
   "id": "a6f21cef",
   "metadata": {},
   "source": [
    "**8. Continue using the Weather API to find insights about random cities around the globe.**"
   ]
  },
  {
   "cell_type": "code",
   "execution_count": null,
   "id": "1c6027bb",
   "metadata": {},
   "outputs": [],
   "source": [
    "# YOUR CODE HERE\n",
    "raise NotImplementedError()"
   ]
  },
  {
   "cell_type": "markdown",
   "id": "c6b23dee",
   "metadata": {},
   "source": [
    "**9. Once you feel satisfied, check out [this repository](https://github.com/public-apis/public-apis), try to find an API that interests you, and try getting data from it.**"
   ]
  },
  {
   "cell_type": "code",
   "execution_count": null,
   "id": "7b496278",
   "metadata": {},
   "outputs": [],
   "source": [
    "# YOUR CODE HERE\n",
    "raise NotImplementedError()"
   ]
  }
 ],
 "metadata": {
  "kernelspec": {
   "display_name": "Python 3 (ipykernel)",
   "language": "python",
   "name": "python3"
  },
  "language_info": {
   "codemirror_mode": {
    "name": "ipython",
    "version": 3
   },
   "file_extension": ".py",
   "mimetype": "text/x-python",
   "name": "python",
   "nbconvert_exporter": "python",
   "pygments_lexer": "ipython3",
   "version": "3.11.5"
  }
 },
 "nbformat": 4,
 "nbformat_minor": 5
}
