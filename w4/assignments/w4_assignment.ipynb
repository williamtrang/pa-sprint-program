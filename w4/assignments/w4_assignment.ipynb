{
 "cells": [
  {
   "cell_type": "markdown",
   "id": "56da6ff7",
   "metadata": {},
   "source": [
    "# APIs\n",
    "\n",
    "This notebook will go over the basics of using APIs in Python. We're going to start with building a basic application to get the weather, then move on to trying to use an API to do whatever you want."
   ]
  },
  {
   "cell_type": "markdown",
   "id": "f3892f3b",
   "metadata": {},
   "source": [
    "**1. Open the [WeatherAPI website](https://www.weatherapi.com/), sign up and create an account.**"
   ]
  },
  {
   "cell_type": "markdown",
   "id": "d437ae9d",
   "metadata": {},
   "source": [
    "**2. Define a variable called `KEY` and store your API key in that variable.**"
   ]
  },
  {
   "cell_type": "code",
   "execution_count": null,
   "id": "415b0aa7",
   "metadata": {},
   "outputs": [],
   "source": [
    "# YOUR CODE HERE\n",
    "raise NotImplementedError()"
   ]
  },
  {
   "cell_type": "markdown",
   "id": "e8e66bc8",
   "metadata": {},
   "source": [
    "**3. Look at the [Weather API Docs](https://www.weatherapi.com/docs/), scroll down to example. Make an HTTP request to the website shown in the example. Make sure you replace the API key part with your own.**"
   ]
  },
  {
   "cell_type": "code",
   "execution_count": null,
   "id": "e8585e82",
   "metadata": {},
   "outputs": [],
   "source": [
    "# YOUR CODE HERE\n",
    "raise NotImplementedError()"
   ]
  },
  {
   "cell_type": "markdown",
   "id": "4de0fb05",
   "metadata": {},
   "source": [
    "**4. Use `literal_eval` function on the response to turn it into a Python usable structure. Try extracting the temperature in Celsius, the humidity, and the wind in kilometers per hour.**"
   ]
  },
  {
   "cell_type": "code",
   "execution_count": null,
   "id": "c5960455",
   "metadata": {},
   "outputs": [],
   "source": [
    "# YOUR CODE HERE\n",
    "raise NotImplementedError()"
   ]
  },
  {
   "cell_type": "markdown",
   "id": "e85896b2",
   "metadata": {},
   "source": [
    "**5. Investigate the structure of what you just wrote. What does `current.xml` mean? What is the query city for?**"
   ]
  },
  {
   "cell_type": "markdown",
   "id": "3c03f730",
   "metadata": {},
   "source": [
    "**6. Now, using what you just investigated, try getting the 5 day forecast for the zip code 94612 in XML format.**"
   ]
  },
  {
   "cell_type": "code",
   "execution_count": null,
   "id": "d9da0da6",
   "metadata": {},
   "outputs": [],
   "source": [
    "# YOUR CODE HERE\n",
    "raise NotImplementedError()"
   ]
  },
  {
   "cell_type": "markdown",
   "id": "2d566b12",
   "metadata": {},
   "source": [
    "**7. Get the upcoming sports events in Seoul.**"
   ]
  },
  {
   "cell_type": "code",
   "execution_count": null,
   "id": "047b966d",
   "metadata": {},
   "outputs": [],
   "source": [
    "# YOUR CODE HERE\n",
    "raise NotImplementedError()"
   ]
  },
  {
   "cell_type": "markdown",
   "id": "8b21b478",
   "metadata": {},
   "source": [
    "## II. Free Exploration"
   ]
  },
  {
   "cell_type": "markdown",
   "id": "a6f21cef",
   "metadata": {},
   "source": [
    "**8. Continue using the Weather API to find insights about random cities around the globe.**"
   ]
  },
  {
   "cell_type": "code",
   "execution_count": null,
   "id": "1c6027bb",
   "metadata": {},
   "outputs": [],
   "source": [
    "# YOUR CODE HERE\n",
    "raise NotImplementedError()"
   ]
  },
  {
   "cell_type": "markdown",
   "id": "c6b23dee",
   "metadata": {},
   "source": [
    "**9. Once you feel satisfied, check out [this repository](https://github.com/public-apis/public-apis), try to find an API that interests you, and try getting data from it.**"
   ]
  },
  {
   "cell_type": "code",
   "execution_count": null,
   "id": "7b496278",
   "metadata": {},
   "outputs": [],
   "source": [
    "# YOUR CODE HERE\n",
    "raise NotImplementedError()"
   ]
  }
 ],
 "metadata": {
  "kernelspec": {
   "display_name": "Python 3 (ipykernel)",
   "language": "python",
   "name": "python3"
  },
  "language_info": {
   "codemirror_mode": {
    "name": "ipython",
    "version": 3
   },
   "file_extension": ".py",
   "mimetype": "text/x-python",
   "name": "python",
   "nbconvert_exporter": "python",
   "pygments_lexer": "ipython3",
   "version": "3.11.5"
  }
 },
 "nbformat": 4,
 "nbformat_minor": 5
}
