{
 "cells": [
  {
   "cell_type": "code",
   "execution_count": 1,
   "id": "02ff0c1e-7f07-4979-aecf-907b6410553d",
   "metadata": {},
   "outputs": [],
   "source": [
    "# basic list in Python\n",
    "lst = [3, 2, 1]"
   ]
  },
  {
   "cell_type": "code",
   "execution_count": 2,
   "id": "ec0a9e6c-ab11-4d00-bd77-93501bae17c2",
   "metadata": {},
   "outputs": [
    {
     "name": "stdout",
     "output_type": "stream",
     "text": [
      "[3, 2, 1]\n"
     ]
    }
   ],
   "source": [
    "print(lst)"
   ]
  },
  {
   "cell_type": "code",
   "execution_count": 3,
   "id": "3a029d13-f50c-457c-8522-f9f03606d8ec",
   "metadata": {},
   "outputs": [
    {
     "data": {
      "text/plain": [
       "1"
      ]
     },
     "execution_count": 3,
     "metadata": {},
     "output_type": "execute_result"
    }
   ],
   "source": [
    "# accessing elements\n",
    "lst[2]"
   ]
  },
  {
   "cell_type": "code",
   "execution_count": 4,
   "id": "77bfaf11-e5c9-4120-b608-52c9655ef426",
   "metadata": {},
   "outputs": [
    {
     "ename": "IndexError",
     "evalue": "list index out of range",
     "output_type": "error",
     "traceback": [
      "\u001b[0;31m---------------------------------------------------------------------------\u001b[0m",
      "\u001b[0;31mIndexError\u001b[0m                                Traceback (most recent call last)",
      "Cell \u001b[0;32mIn[4], line 2\u001b[0m\n\u001b[1;32m      1\u001b[0m \u001b[38;5;66;03m# attempting to access an element not in the list will cause an error\u001b[39;00m\n\u001b[0;32m----> 2\u001b[0m lst[\u001b[38;5;241m6\u001b[39m]\n",
      "\u001b[0;31mIndexError\u001b[0m: list index out of range"
     ]
    }
   ],
   "source": [
    "# attempting to access an element not in the list will cause an error\n",
    "lst[6]"
   ]
  },
  {
   "cell_type": "code",
   "execution_count": 5,
   "id": "1ed8945f-ff40-430e-8910-e6c8336c3403",
   "metadata": {},
   "outputs": [
    {
     "data": {
      "text/plain": [
       "[3, 2, 1, 6]"
      ]
     },
     "execution_count": 5,
     "metadata": {},
     "output_type": "execute_result"
    }
   ],
   "source": [
    "# add to a list (at the end)\n",
    "lst.append(6)\n",
    "lst"
   ]
  },
  {
   "cell_type": "code",
   "execution_count": 6,
   "id": "c636ed6e-451a-489d-b388-8b598dc7890c",
   "metadata": {},
   "outputs": [
    {
     "data": {
      "text/plain": [
       "[3, 5, 2, 1, 6]"
      ]
     },
     "execution_count": 6,
     "metadata": {},
     "output_type": "execute_result"
    }
   ],
   "source": [
    "# add an element to a list (second element is element to be inserted, first is place to insert it)\n",
    "lst.insert(1, 5)\n",
    "lst"
   ]
  },
  {
   "cell_type": "code",
   "execution_count": 7,
   "id": "32feb004-a6a7-429c-b9f7-a4b356d0cb4f",
   "metadata": {},
   "outputs": [
    {
     "name": "stdout",
     "output_type": "stream",
     "text": [
      "False\n"
     ]
    }
   ],
   "source": [
    "print(4 in lst)"
   ]
  },
  {
   "cell_type": "code",
   "execution_count": 8,
   "id": "b76de79b-e4e9-4e5a-8f63-f17ad74fd12d",
   "metadata": {},
   "outputs": [],
   "source": [
    "# lists can contain any type of content\n",
    "bool_lst = [True, False, False] # booleans\n",
    "float_lst = [1.5, 2.5, 5.3] # floats\n",
    "lst_lst = [[], [], []] # lists\n",
    "str_lst = ['apple' , 'banana', 'pear'] # strings"
   ]
  },
  {
   "cell_type": "code",
   "execution_count": 9,
   "id": "b6c3957b-ada9-4aa2-b8f0-238e1ec3ee70",
   "metadata": {},
   "outputs": [],
   "source": [
    "# creating a dictionary in Python\n",
    "william = {'age': 22,\n",
    "           'loc': 'usa',\n",
    "           'height': 170}"
   ]
  },
  {
   "cell_type": "code",
   "execution_count": 10,
   "id": "484e8c88-e113-448a-96df-21fe2b66e74a",
   "metadata": {},
   "outputs": [
    {
     "name": "stdout",
     "output_type": "stream",
     "text": [
      "22\n"
     ]
    }
   ],
   "source": [
    "# accessing elements in a dictionary\n",
    "print(william['age'])"
   ]
  },
  {
   "cell_type": "code",
   "execution_count": 11,
   "id": "4368cf90-a268-44bf-ac1c-6039ffd5b04a",
   "metadata": {},
   "outputs": [
    {
     "name": "stdout",
     "output_type": "stream",
     "text": [
      "{'age': 22, 'loc': 'usa', 'height': 170, 'gender': 'm'}\n"
     ]
    }
   ],
   "source": [
    "# adding elements to a dictionary\n",
    "william['gender'] = 'm'\n",
    "print(william)"
   ]
  },
  {
   "cell_type": "code",
   "execution_count": 12,
   "id": "b4cd0f75-9926-455f-83d7-cda9037015eb",
   "metadata": {},
   "outputs": [
    {
     "name": "stdout",
     "output_type": "stream",
     "text": [
      "{'age': 23, 'loc': 'usa', 'height': 170, 'gender': 'm'}\n"
     ]
    }
   ],
   "source": [
    "william['age'] = 23\n",
    "print(william)"
   ]
  },
  {
   "cell_type": "code",
   "execution_count": 13,
   "id": "7e7a6bb1-f6f6-4e99-971c-7b6c02c05411",
   "metadata": {},
   "outputs": [
    {
     "name": "stdout",
     "output_type": "stream",
     "text": [
      "True\n"
     ]
    }
   ],
   "source": [
    "print('age' in william)"
   ]
  },
  {
   "cell_type": "code",
   "execution_count": 14,
   "id": "7dd2c6b4-366b-4895-9cd0-db8074d4084f",
   "metadata": {},
   "outputs": [
    {
     "name": "stdout",
     "output_type": "stream",
     "text": [
      "False\n"
     ]
    }
   ],
   "source": [
    "print('fav_color' in william)"
   ]
  },
  {
   "cell_type": "code",
   "execution_count": 15,
   "id": "ac29b76c-0d3e-47c8-b205-b2e78eaf6f23",
   "metadata": {},
   "outputs": [
    {
     "name": "stdout",
     "output_type": "stream",
     "text": [
      "happy\n",
      "happy\n",
      "happy\n"
     ]
    }
   ],
   "source": [
    "# loop a certain number of times\n",
    "for i in range(3):\n",
    "    print('happy')"
   ]
  },
  {
   "cell_type": "code",
   "execution_count": 16,
   "id": "9a61e993-2f70-4e67-90f7-ba55b7e1759e",
   "metadata": {},
   "outputs": [
    {
     "name": "stdout",
     "output_type": "stream",
     "text": [
      "[3, 5, 2, 1, 6]\n"
     ]
    }
   ],
   "source": [
    "print(lst)"
   ]
  },
  {
   "cell_type": "code",
   "execution_count": 17,
   "id": "26a2e615-47bf-486f-81b1-799fa87c3be3",
   "metadata": {},
   "outputs": [
    {
     "name": "stdout",
     "output_type": "stream",
     "text": [
      "3\n",
      "5\n",
      "2\n",
      "1\n",
      "6\n"
     ]
    }
   ],
   "source": [
    "for item in lst:\n",
    "    print(item)"
   ]
  },
  {
   "cell_type": "code",
   "execution_count": 18,
   "id": "e2543f36-096f-4dd0-9543-c6f7f563346a",
   "metadata": {},
   "outputs": [
    {
     "name": "stdout",
     "output_type": "stream",
     "text": [
      "0\n",
      "4\n",
      "8\n"
     ]
    }
   ],
   "source": [
    "x = 0\n",
    "while x < 10:\n",
    "    print(x)\n",
    "    x = x + 4"
   ]
  },
  {
   "cell_type": "code",
   "execution_count": 19,
   "id": "75277ee7-d715-4a8a-97ea-aad6c4856c61",
   "metadata": {},
   "outputs": [],
   "source": [
    "def add(x, y):\n",
    "    return x + y"
   ]
  },
  {
   "cell_type": "code",
   "execution_count": 20,
   "id": "7e23aed6-a890-44de-b113-3795b3347f8d",
   "metadata": {},
   "outputs": [
    {
     "name": "stdout",
     "output_type": "stream",
     "text": [
      "9\n"
     ]
    }
   ],
   "source": [
    "print(add(4, 5))"
   ]
  },
  {
   "cell_type": "code",
   "execution_count": 21,
   "id": "e113e4ac-6e28-436a-93b6-ec51fc47dea9",
   "metadata": {},
   "outputs": [],
   "source": [
    "def subtract(x, y):\n",
    "    print(x - y)"
   ]
  },
  {
   "cell_type": "code",
   "execution_count": 22,
   "id": "404bed5c-fca8-4de7-8bae-ccbc510cddb8",
   "metadata": {},
   "outputs": [
    {
     "name": "stdout",
     "output_type": "stream",
     "text": [
      "4\n"
     ]
    }
   ],
   "source": [
    "subtract(7, 3)"
   ]
  },
  {
   "cell_type": "code",
   "execution_count": null,
   "id": "bfb43916-ef23-4d01-85bd-3d70701acf09",
   "metadata": {},
   "outputs": [],
   "source": []
  }
 ],
 "metadata": {
  "kernelspec": {
   "display_name": "Python 3 (ipykernel)",
   "language": "python",
   "name": "python3"
  },
  "language_info": {
   "codemirror_mode": {
    "name": "ipython",
    "version": 3
   },
   "file_extension": ".py",
   "mimetype": "text/x-python",
   "name": "python",
   "nbconvert_exporter": "python",
   "pygments_lexer": "ipython3",
   "version": "3.11.5"
  }
 },
 "nbformat": 4,
 "nbformat_minor": 5
}
